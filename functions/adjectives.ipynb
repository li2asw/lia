{
 "cells": [
  {
   "cell_type": "code",
   "execution_count": 1,
   "metadata": {},
   "outputs": [],
   "source": [
    "import requests\n",
    "import pandas as pd\n",
    "from pandas import json_normalize"
   ]
  },
  {
   "cell_type": "code",
   "execution_count": 2,
   "metadata": {},
   "outputs": [
    {
     "name": "stdout",
     "output_type": "stream",
     "text": [
      "\u001b[33mDEPRECATION: Configuring installation scheme with distutils config files is deprecated and will no longer work in the near future. If you are using a Homebrew or Linuxbrew Python, please see discussion at https://github.com/Homebrew/homebrew-core/issues/76621\u001b[0m\n",
      "Requirement already satisfied: spacy in /usr/local/lib/python3.9/site-packages (3.1.0)\n",
      "Requirement already satisfied: srsly<3.0.0,>=2.4.1 in /usr/local/lib/python3.9/site-packages (from spacy) (2.4.1)\n",
      "Requirement already satisfied: murmurhash<1.1.0,>=0.28.0 in /usr/local/lib/python3.9/site-packages (from spacy) (1.0.5)\n",
      "Requirement already satisfied: thinc<8.1.0,>=8.0.7 in /usr/local/lib/python3.9/site-packages (from spacy) (8.0.7)\n",
      "Requirement already satisfied: blis<0.8.0,>=0.4.0 in /usr/local/lib/python3.9/site-packages (from spacy) (0.7.4)\n",
      "Requirement already satisfied: requests<3.0.0,>=2.13.0 in /usr/local/lib/python3.9/site-packages (from spacy) (2.25.1)\n",
      "Requirement already satisfied: packaging>=20.0 in /usr/local/lib/python3.9/site-packages (from spacy) (20.9)\n",
      "Requirement already satisfied: pathy>=0.3.5 in /usr/local/lib/python3.9/site-packages (from spacy) (0.6.0)\n",
      "Requirement already satisfied: tqdm<5.0.0,>=4.38.0 in /usr/local/lib/python3.9/site-packages (from spacy) (4.61.2)\n",
      "Requirement already satisfied: numpy>=1.15.0 in /usr/local/lib/python3.9/site-packages (from spacy) (1.21.0)\n",
      "Requirement already satisfied: jinja2 in /usr/local/lib/python3.9/site-packages (from spacy) (3.0.1)\n",
      "Requirement already satisfied: spacy-legacy<3.1.0,>=3.0.7 in /usr/local/lib/python3.9/site-packages (from spacy) (3.0.8)\n",
      "Requirement already satisfied: typer<0.4.0,>=0.3.0 in /usr/local/lib/python3.9/site-packages (from spacy) (0.3.2)\n",
      "Requirement already satisfied: catalogue<2.1.0,>=2.0.4 in /usr/local/lib/python3.9/site-packages (from spacy) (2.0.4)\n",
      "Requirement already satisfied: setuptools in /usr/local/lib/python3.9/site-packages (from spacy) (59.0.1)\n",
      "Requirement already satisfied: cymem<2.1.0,>=2.0.2 in /usr/local/lib/python3.9/site-packages (from spacy) (2.0.5)\n",
      "Requirement already satisfied: preshed<3.1.0,>=3.0.2 in /usr/local/lib/python3.9/site-packages (from spacy) (3.0.5)\n",
      "Requirement already satisfied: wasabi<1.1.0,>=0.8.1 in /usr/local/lib/python3.9/site-packages (from spacy) (0.8.2)\n",
      "Requirement already satisfied: pydantic!=1.8,!=1.8.1,<1.9.0,>=1.7.4 in /usr/local/lib/python3.9/site-packages (from spacy) (1.8.2)\n",
      "Requirement already satisfied: pyparsing>=2.0.2 in /usr/local/lib/python3.9/site-packages (from packaging>=20.0->spacy) (2.4.7)\n",
      "Requirement already satisfied: smart-open<6.0.0,>=5.0.0 in /usr/local/lib/python3.9/site-packages (from pathy>=0.3.5->spacy) (5.1.0)\n",
      "Requirement already satisfied: typing-extensions>=3.7.4.3 in /usr/local/lib/python3.9/site-packages (from pydantic!=1.8,!=1.8.1,<1.9.0,>=1.7.4->spacy) (3.10.0.0)\n",
      "Requirement already satisfied: idna<3,>=2.5 in /usr/local/lib/python3.9/site-packages (from requests<3.0.0,>=2.13.0->spacy) (2.10)\n",
      "Requirement already satisfied: certifi>=2017.4.17 in /usr/local/lib/python3.9/site-packages (from requests<3.0.0,>=2.13.0->spacy) (2021.5.30)\n",
      "Requirement already satisfied: chardet<5,>=3.0.2 in /usr/local/lib/python3.9/site-packages (from requests<3.0.0,>=2.13.0->spacy) (4.0.0)\n",
      "Requirement already satisfied: urllib3<1.27,>=1.21.1 in /usr/local/lib/python3.9/site-packages (from requests<3.0.0,>=2.13.0->spacy) (1.26.5)\n",
      "Requirement already satisfied: click<7.2.0,>=7.1.1 in /usr/local/lib/python3.9/site-packages (from typer<0.4.0,>=0.3.0->spacy) (7.1.2)\n",
      "Requirement already satisfied: MarkupSafe>=2.0 in /usr/local/lib/python3.9/site-packages (from jinja2->spacy) (2.0.1)\n"
     ]
    }
   ],
   "source": [
    "! pip3 install spacy"
   ]
  },
  {
   "cell_type": "code",
   "execution_count": 3,
   "metadata": {},
   "outputs": [
    {
     "name": "stdout",
     "output_type": "stream",
     "text": [
      "\u001b[33mDEPRECATION: Configuring installation scheme with distutils config files is deprecated and will no longer work in the near future. If you are using a Homebrew or Linuxbrew Python, please see discussion at https://github.com/Homebrew/homebrew-core/issues/76621\u001b[0m\n",
      "Collecting pt-core-news-lg==3.1.0\n",
      "  Downloading https://github.com/explosion/spacy-models/releases/download/pt_core_news_lg-3.1.0/pt_core_news_lg-3.1.0-py3-none-any.whl (576.7 MB)\n",
      "     |████████████████████████████████| 576.7 MB 51 kB/s              \n",
      "\u001b[?25hRequirement already satisfied: spacy<3.2.0,>=3.1.0 in /usr/local/lib/python3.9/site-packages (from pt-core-news-lg==3.1.0) (3.1.0)\n",
      "Requirement already satisfied: murmurhash<1.1.0,>=0.28.0 in /usr/local/lib/python3.9/site-packages (from spacy<3.2.0,>=3.1.0->pt-core-news-lg==3.1.0) (1.0.5)\n",
      "Requirement already satisfied: typer<0.4.0,>=0.3.0 in /usr/local/lib/python3.9/site-packages (from spacy<3.2.0,>=3.1.0->pt-core-news-lg==3.1.0) (0.3.2)\n",
      "Requirement already satisfied: requests<3.0.0,>=2.13.0 in /usr/local/lib/python3.9/site-packages (from spacy<3.2.0,>=3.1.0->pt-core-news-lg==3.1.0) (2.25.1)\n",
      "Requirement already satisfied: tqdm<5.0.0,>=4.38.0 in /usr/local/lib/python3.9/site-packages (from spacy<3.2.0,>=3.1.0->pt-core-news-lg==3.1.0) (4.61.2)\n",
      "Requirement already satisfied: setuptools in /usr/local/lib/python3.9/site-packages (from spacy<3.2.0,>=3.1.0->pt-core-news-lg==3.1.0) (59.0.1)\n",
      "Requirement already satisfied: spacy-legacy<3.1.0,>=3.0.7 in /usr/local/lib/python3.9/site-packages (from spacy<3.2.0,>=3.1.0->pt-core-news-lg==3.1.0) (3.0.8)\n",
      "Requirement already satisfied: jinja2 in /usr/local/lib/python3.9/site-packages (from spacy<3.2.0,>=3.1.0->pt-core-news-lg==3.1.0) (3.0.1)\n",
      "Requirement already satisfied: catalogue<2.1.0,>=2.0.4 in /usr/local/lib/python3.9/site-packages (from spacy<3.2.0,>=3.1.0->pt-core-news-lg==3.1.0) (2.0.4)\n",
      "Requirement already satisfied: packaging>=20.0 in /usr/local/lib/python3.9/site-packages (from spacy<3.2.0,>=3.1.0->pt-core-news-lg==3.1.0) (20.9)\n",
      "Requirement already satisfied: blis<0.8.0,>=0.4.0 in /usr/local/lib/python3.9/site-packages (from spacy<3.2.0,>=3.1.0->pt-core-news-lg==3.1.0) (0.7.4)\n",
      "Requirement already satisfied: pathy>=0.3.5 in /usr/local/lib/python3.9/site-packages (from spacy<3.2.0,>=3.1.0->pt-core-news-lg==3.1.0) (0.6.0)\n",
      "Requirement already satisfied: numpy>=1.15.0 in /usr/local/lib/python3.9/site-packages (from spacy<3.2.0,>=3.1.0->pt-core-news-lg==3.1.0) (1.21.0)\n",
      "Requirement already satisfied: preshed<3.1.0,>=3.0.2 in /usr/local/lib/python3.9/site-packages (from spacy<3.2.0,>=3.1.0->pt-core-news-lg==3.1.0) (3.0.5)\n",
      "Requirement already satisfied: cymem<2.1.0,>=2.0.2 in /usr/local/lib/python3.9/site-packages (from spacy<3.2.0,>=3.1.0->pt-core-news-lg==3.1.0) (2.0.5)\n",
      "Requirement already satisfied: thinc<8.1.0,>=8.0.7 in /usr/local/lib/python3.9/site-packages (from spacy<3.2.0,>=3.1.0->pt-core-news-lg==3.1.0) (8.0.7)\n",
      "Requirement already satisfied: pydantic!=1.8,!=1.8.1,<1.9.0,>=1.7.4 in /usr/local/lib/python3.9/site-packages (from spacy<3.2.0,>=3.1.0->pt-core-news-lg==3.1.0) (1.8.2)\n",
      "Requirement already satisfied: wasabi<1.1.0,>=0.8.1 in /usr/local/lib/python3.9/site-packages (from spacy<3.2.0,>=3.1.0->pt-core-news-lg==3.1.0) (0.8.2)\n",
      "Requirement already satisfied: srsly<3.0.0,>=2.4.1 in /usr/local/lib/python3.9/site-packages (from spacy<3.2.0,>=3.1.0->pt-core-news-lg==3.1.0) (2.4.1)\n",
      "Requirement already satisfied: pyparsing>=2.0.2 in /usr/local/lib/python3.9/site-packages (from packaging>=20.0->spacy<3.2.0,>=3.1.0->pt-core-news-lg==3.1.0) (2.4.7)\n",
      "Requirement already satisfied: smart-open<6.0.0,>=5.0.0 in /usr/local/lib/python3.9/site-packages (from pathy>=0.3.5->spacy<3.2.0,>=3.1.0->pt-core-news-lg==3.1.0) (5.1.0)\n",
      "Requirement already satisfied: typing-extensions>=3.7.4.3 in /usr/local/lib/python3.9/site-packages (from pydantic!=1.8,!=1.8.1,<1.9.0,>=1.7.4->spacy<3.2.0,>=3.1.0->pt-core-news-lg==3.1.0) (3.10.0.0)\n",
      "Requirement already satisfied: idna<3,>=2.5 in /usr/local/lib/python3.9/site-packages (from requests<3.0.0,>=2.13.0->spacy<3.2.0,>=3.1.0->pt-core-news-lg==3.1.0) (2.10)\n",
      "Requirement already satisfied: urllib3<1.27,>=1.21.1 in /usr/local/lib/python3.9/site-packages (from requests<3.0.0,>=2.13.0->spacy<3.2.0,>=3.1.0->pt-core-news-lg==3.1.0) (1.26.5)\n",
      "Requirement already satisfied: certifi>=2017.4.17 in /usr/local/lib/python3.9/site-packages (from requests<3.0.0,>=2.13.0->spacy<3.2.0,>=3.1.0->pt-core-news-lg==3.1.0) (2021.5.30)\n",
      "Requirement already satisfied: chardet<5,>=3.0.2 in /usr/local/lib/python3.9/site-packages (from requests<3.0.0,>=2.13.0->spacy<3.2.0,>=3.1.0->pt-core-news-lg==3.1.0) (4.0.0)\n",
      "Requirement already satisfied: click<7.2.0,>=7.1.1 in /usr/local/lib/python3.9/site-packages (from typer<0.4.0,>=0.3.0->spacy<3.2.0,>=3.1.0->pt-core-news-lg==3.1.0) (7.1.2)\n",
      "Requirement already satisfied: MarkupSafe>=2.0 in /usr/local/lib/python3.9/site-packages (from jinja2->spacy<3.2.0,>=3.1.0->pt-core-news-lg==3.1.0) (2.0.1)\n",
      "\u001b[38;5;2m✔ Download and installation successful\u001b[0m\n",
      "You can now load the package via spacy.load('pt_core_news_lg')\n"
     ]
    }
   ],
   "source": [
    "! python3 -m spacy download pt_core_news_lg"
   ]
  },
  {
   "cell_type": "code",
   "execution_count": 4,
   "metadata": {},
   "outputs": [],
   "source": [
    "word = 'lindo'"
   ]
  },
  {
   "cell_type": "code",
   "execution_count": 5,
   "metadata": {},
   "outputs": [
    {
     "data": {
      "text/plain": "['agradável',\n 'airoso',\n 'belo',\n 'bonito',\n 'formoso',\n 'gracioso',\n 'primoroso',\n 'vistoso',\n 'prazeroso',\n 'harmonioso',\n 'perfeito']"
     },
     "execution_count": 5,
     "metadata": {},
     "output_type": "execute_result"
    }
   ],
   "source": [
    "url = 'https://significado.herokuapp.com/synonyms/'+word\n",
    "response = requests.get(url)\n",
    "synonyms_list = response.json()\n",
    "synonyms_list"
   ]
  },
  {
   "cell_type": "code",
   "execution_count": 6,
   "metadata": {},
   "outputs": [
    {
     "data": {
      "text/plain": "[{'class': 'adjetivo',\n  'meanings': ['Excessivamente bonito; que é bom de se ouvir e/ou ver; belo: um monumento lindo.',\n   'Em que há perfeição; perfeito: sinfonia cujos arranjos são lindos.',\n   'Que pode ser definido por possuir harmonia; elegante ou harmonioso: ela trazia um lindo sapato.',\n   'Que ocasiona prazer; prazeroso: passamos uma linda tarde na praia.'],\n  'etymology': 'Etimologia (origem da palavra lindo). Talvez do latim limpidus/legitimus.'}]"
     },
     "execution_count": 6,
     "metadata": {},
     "output_type": "execute_result"
    }
   ],
   "source": [
    "url = 'https://significado.herokuapp.com/'+word\n",
    "response = requests.get(url)\n",
    "response_dict = response.json()\n",
    "response_dict"
   ]
  },
  {
   "cell_type": "code",
   "execution_count": 7,
   "metadata": {},
   "outputs": [],
   "source": [
    "import requests\n",
    "import pandas as pd\n",
    "from pandas import json_normalize\n",
    "\n",
    "def adjectives(word):\n",
    "    url = 'https://significado.herokuapp.com/synonyms/'+word\n",
    "    response = requests.get(url)\n",
    "    synonyms_list = response.json()\n",
    "\n",
    "    substituto=[]\n",
    "    for i in synonyms_list:\n",
    "        if i.endswith(('ante', 'ente', 'ista', 'antes', 'entes','istas', 'e', 'es', 'l', 'ais', 'm', 'ar', 'ares' 'z', 'zes')) :\n",
    "            if cosine(embeddings[word], embeddings[i]) <= 0.4:\n",
    "                substituto.append(i) \n",
    "        #if bool(substituto) == True:\n",
    "            #break\n",
    "\n",
    "    #if bool(substituto) == False:\n",
    "    url = 'https://significado.herokuapp.com/'+word\n",
    "    response = requests.get(url)\n",
    "    response_dict = response.json()\n",
    "    df = pd.json_normalize(response_dict)\n",
    "    substituto.append(df.meanings[0][0])        \n",
    "        \n",
    "    return substituto       "
   ]
  },
  {
   "cell_type": "code",
   "execution_count": 11,
   "metadata": {},
   "outputs": [],
   "source": [
    "from Levenshtein import ratio\n",
    "\n",
    "def adjectives_with_gender(word):\n",
    "\n",
    "    #procura sinonimos\n",
    "    url = 'https://significado.herokuapp.com/synonyms/'+word\n",
    "    response = requests.get(url)\n",
    "    synonyms_list = response.json()\n",
    "\n",
    "    substituto=[]\n",
    "    for i in synonyms_list:\n",
    "        if i.endswith(('ante', 'ente', 'ista', 'antes', 'entes','istas', 'e', 'es', 'l', 'ais', 'm', 'ar', 'ares' 'z', 'zes')) :\n",
    "            if ratio(word, i) <= 0.4:\n",
    "                substituto.append(i) \n",
    "\n",
    "        if bool(substituto) == True:\n",
    "            break\n",
    "\n",
    "    if bool(substituto) == False:\n",
    "\n",
    "        #procura significado\n",
    "        url = 'https://significado.herokuapp.com/'+word\n",
    "        response = requests.get(url)\n",
    "        response_dict = response.json()\n",
    "        df = pd.json_normalize(response_dict)\n",
    "        substituto.append(df.meanings[0][0])        \n",
    "    \n",
    "    return substituto[0]       \n",
    "    "
   ]
  },
  {
   "cell_type": "code",
   "execution_count": 21,
   "metadata": {},
   "outputs": [
    {
     "data": {
      "text/html": "<span class=\"tex2jax_ignore\"><svg xmlns=\"http://www.w3.org/2000/svg\" xmlns:xlink=\"http://www.w3.org/1999/xlink\" xml:lang=\"pt\" id=\"d8737cc9ee0d438cbe7a60ef60f7be77-0\" class=\"displacy\" width=\"750\" height=\"312.0\" direction=\"ltr\" style=\"max-width: none; height: 312.0px; color: #000000; background: #ffffff; font-family: Arial; direction: ltr\">\n<text class=\"displacy-token\" fill=\"currentColor\" text-anchor=\"middle\" y=\"222.0\">\n    <tspan class=\"displacy-word\" fill=\"currentColor\" x=\"50\">o</tspan>\n    <tspan class=\"displacy-tag\" dy=\"2em\" fill=\"currentColor\" x=\"50\">DET</tspan>\n</text>\n\n<text class=\"displacy-token\" fill=\"currentColor\" text-anchor=\"middle\" y=\"222.0\">\n    <tspan class=\"displacy-word\" fill=\"currentColor\" x=\"225\">professor</tspan>\n    <tspan class=\"displacy-tag\" dy=\"2em\" fill=\"currentColor\" x=\"225\">NOUN</tspan>\n</text>\n\n<text class=\"displacy-token\" fill=\"currentColor\" text-anchor=\"middle\" y=\"222.0\">\n    <tspan class=\"displacy-word\" fill=\"currentColor\" x=\"400\">é</tspan>\n    <tspan class=\"displacy-tag\" dy=\"2em\" fill=\"currentColor\" x=\"400\">AUX</tspan>\n</text>\n\n<text class=\"displacy-token\" fill=\"currentColor\" text-anchor=\"middle\" y=\"222.0\">\n    <tspan class=\"displacy-word\" fill=\"currentColor\" x=\"575\">maravilhoso</tspan>\n    <tspan class=\"displacy-tag\" dy=\"2em\" fill=\"currentColor\" x=\"575\">ADJ</tspan>\n</text>\n\n<g class=\"displacy-arrow\">\n    <path class=\"displacy-arc\" id=\"arrow-d8737cc9ee0d438cbe7a60ef60f7be77-0-0\" stroke-width=\"2px\" d=\"M70,177.0 C70,89.5 220.0,89.5 220.0,177.0\" fill=\"none\" stroke=\"currentColor\"/>\n    <text dy=\"1.25em\" style=\"font-size: 0.8em; letter-spacing: 1px\">\n        <textPath xlink:href=\"#arrow-d8737cc9ee0d438cbe7a60ef60f7be77-0-0\" class=\"displacy-label\" startOffset=\"50%\" side=\"left\" fill=\"currentColor\" text-anchor=\"middle\">det</textPath>\n    </text>\n    <path class=\"displacy-arrowhead\" d=\"M70,179.0 L62,167.0 78,167.0\" fill=\"currentColor\"/>\n</g>\n\n<g class=\"displacy-arrow\">\n    <path class=\"displacy-arc\" id=\"arrow-d8737cc9ee0d438cbe7a60ef60f7be77-0-1\" stroke-width=\"2px\" d=\"M245,177.0 C245,2.0 575.0,2.0 575.0,177.0\" fill=\"none\" stroke=\"currentColor\"/>\n    <text dy=\"1.25em\" style=\"font-size: 0.8em; letter-spacing: 1px\">\n        <textPath xlink:href=\"#arrow-d8737cc9ee0d438cbe7a60ef60f7be77-0-1\" class=\"displacy-label\" startOffset=\"50%\" side=\"left\" fill=\"currentColor\" text-anchor=\"middle\">nsubj</textPath>\n    </text>\n    <path class=\"displacy-arrowhead\" d=\"M245,179.0 L237,167.0 253,167.0\" fill=\"currentColor\"/>\n</g>\n\n<g class=\"displacy-arrow\">\n    <path class=\"displacy-arc\" id=\"arrow-d8737cc9ee0d438cbe7a60ef60f7be77-0-2\" stroke-width=\"2px\" d=\"M420,177.0 C420,89.5 570.0,89.5 570.0,177.0\" fill=\"none\" stroke=\"currentColor\"/>\n    <text dy=\"1.25em\" style=\"font-size: 0.8em; letter-spacing: 1px\">\n        <textPath xlink:href=\"#arrow-d8737cc9ee0d438cbe7a60ef60f7be77-0-2\" class=\"displacy-label\" startOffset=\"50%\" side=\"left\" fill=\"currentColor\" text-anchor=\"middle\">cop</textPath>\n    </text>\n    <path class=\"displacy-arrowhead\" d=\"M420,179.0 L412,167.0 428,167.0\" fill=\"currentColor\"/>\n</g>\n</svg></span>",
      "text/plain": "<IPython.core.display.HTML object>"
     },
     "metadata": {},
     "output_type": "display_data"
    }
   ],
   "source": [
    "from spacy import displacy\n",
    "corpus = nlp(\"o professor é maravilhoso\") \n",
    "displacy.render(corpus, style=\"dep\")"
   ]
  },
  {
   "cell_type": "code",
   "execution_count": 26,
   "metadata": {},
   "outputs": [
    {
     "name": "stdout",
     "output_type": "stream",
     "text": [
      "O  det DET\n",
      "professor  nsubj NOUN\n",
      "é  cop AUX\n",
      "extraordinário  ROOT ADJ\n"
     ]
    }
   ],
   "source": [
    "import spacy\n",
    "nlp = spacy.load(\"pt_core_news_lg\")\n",
    "document = nlp(\"O professor é extraordinário\")\n",
    "for token in document:\n",
    "    print (f'{token}  {token.dep_} {token.pos_}')"
   ]
  },
  {
   "cell_type": "code",
   "execution_count": 27,
   "metadata": {},
   "outputs": [
    {
     "name": "stdout",
     "output_type": "stream",
     "text": [
      "O  det DET\n",
      "professor  nsubj NOUN\n",
      "extraordinário  amod ADJ\n",
      "deu  ROOT VERB\n",
      "aula  obj NOUN\n",
      "hoje  advmod ADV\n"
     ]
    }
   ],
   "source": [
    "import spacy\n",
    "\n",
    "nlp = spacy.load(\"pt_core_news_lg\")\n",
    "document = nlp(\"O professor extraordinário deu aula hoje\")\n",
    "for token in document:\n",
    "    print (f'{token}  {token.dep_} {token.pos_}')"
   ]
  },
  {
   "cell_type": "code",
   "execution_count": 28,
   "metadata": {},
   "outputs": [
    {
     "name": "stdout",
     "output_type": "stream",
     "text": [
      "O  det DET\n",
      "extraordinário  amod ADJ\n",
      "professor  nsubj NOUN\n",
      "deu  ROOT VERB\n",
      "aula  obj NOUN\n",
      "hoje  advmod ADV\n"
     ]
    }
   ],
   "source": [
    "import spacy\n",
    "\n",
    "nlp = spacy.load(\"pt_core_news_lg\")\n",
    "document = nlp(\"O extraordinário professor deu aula hoje\")\n",
    "for token in document:\n",
    "    print (f'{token}  {token.dep_} {token.pos_}')"
   ]
  },
  {
   "cell_type": "code",
   "execution_count": 29,
   "metadata": {},
   "outputs": [
    {
     "name": "stdout",
     "output_type": "stream",
     "text": [
      "O  det DET\n",
      "professor  nsubj NOUN\n",
      "que  nsubj PRON\n",
      "deu  acl:relcl VERB\n",
      "aula  obj NOUN\n",
      "hoje  advmod ADV\n",
      "é  cop AUX\n",
      "extraordinário  ROOT ADJ\n"
     ]
    }
   ],
   "source": [
    "import spacy\n",
    "nlp = spacy.load(\"pt_core_news_lg\")\n",
    "document = nlp(\"O professor que deu aula hoje é extraordinário\")\n",
    "for token in document:\n",
    "    print (f'{token}  {token.dep_} {token.pos_}')"
   ]
  },
  {
   "cell_type": "code",
   "execution_count": 12,
   "metadata": {},
   "outputs": [
    {
     "data": {
      "text/plain": "'excelente'"
     },
     "execution_count": 12,
     "metadata": {},
     "output_type": "execute_result"
    }
   ],
   "source": [
    "word = \"maravilhoso\"\n",
    "adjectives_with_gender(word)"
   ]
  },
  {
   "cell_type": "code",
   "execution_count": null,
   "metadata": {},
   "outputs": [],
   "source": [
    "from gensim.models import KeyedVectors\n",
    "embeddings = KeyedVectors.load_word2vec_format('skip_s50.txt')\n",
    "\n",
    "from scipy.spatial.distance import cosine\n",
    "cosine(embeddings[word], embeddings[teste])"
   ]
  },
  {
   "cell_type": "code",
   "execution_count": null,
   "metadata": {},
   "outputs": [
    {
     "data": {
      "text/plain": "0.4381922483444214"
     },
     "execution_count": 77,
     "metadata": {},
     "output_type": "execute_result"
    }
   ],
   "source": [
    "cosine(embeddings[\"tímido\"], embeddings[\"débil\"])"
   ]
  },
  {
   "cell_type": "code",
   "execution_count": null,
   "metadata": {},
   "outputs": [
    {
     "data": {
      "text/plain": "['experiente', 'Característica de quem possui inteligência.']"
     },
     "execution_count": 66,
     "metadata": {},
     "output_type": "execute_result"
    }
   ],
   "source": [
    "adjectives(\"inteligente\")"
   ]
  },
  {
   "cell_type": "code",
   "execution_count": null,
   "metadata": {},
   "outputs": [
    {
     "data": {
      "text/plain": "0.48795604705810547"
     },
     "execution_count": 62,
     "metadata": {},
     "output_type": "execute_result"
    }
   ],
   "source": [
    "cosine(embeddings[\"inteligente\"], embeddings[\"conhecedor\"])"
   ]
  },
  {
   "cell_type": "code",
   "execution_count": null,
   "metadata": {},
   "outputs": [],
   "source": [
    "import spacy\n",
    "def load_spacy():\n",
    "    return spacy.load(\"pt_core_news_lg\")\n",
    "\n",
    "nlp = load_spacy()"
   ]
  }
 ],
 "metadata": {
  "kernelspec": {
   "display_name": "Python 3.9.9 64-bit",
   "name": "python399jvsc74a57bd0aee8b7b246df8f9039afb4144a1f6fd8d2ca17a180786b69acc140d282b71a49"
  },
  "language_info": {
   "name": "python",
   "version": ""
  },
  "metadata": {
   "interpreter": {
    "hash": "aee8b7b246df8f9039afb4144a1f6fd8d2ca17a180786b69acc140d282b71a49"
   }
  },
  "orig_nbformat": 2
 },
 "nbformat": 4,
 "nbformat_minor": 2
}